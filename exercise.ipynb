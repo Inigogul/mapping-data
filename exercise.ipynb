{
 "cells": [
  {
   "attachments": {},
   "cell_type": "markdown",
   "metadata": {},
   "source": [
    "# Practice your skills loading data from a CSV file\n",
    "In this exercise, you will load a CSV file and you'll perform some operations on it to extract data. If you know how to do this with the Pandas library, you can use that. If not, you can use the csv library with the ready-to-use example this notebook provides."
   ]
  },
  {
   "cell_type": "code",
   "execution_count": 1,
   "metadata": {},
   "outputs": [],
   "source": [
    "from csv import DictReader\n",
    "\n",
    "# Open the CSV file and read it into a list of dictionaries and ignore unicode errors\n",
    "\n",
    "with open('sample_data/wine-ratings-small.csv', encoding='utf-8', errors='ignore') as f:\n",
    "    reader = DictReader(f)\n",
    "    wines = list(reader)\n",
    "\n",
    "\n",
    "# The wines variable is now a list of dictionaries, one for each row in the CSV file. This is the sample output of a single entry:\n",
    "# {'': '1',\n",
    "#  'name': 'Laurenz V Charming Gruner Veltliner 2014',\n",
    "#  'grape': '',\n",
    "#  'region': 'Kamptal, Austria',\n",
    "#  'variety': 'White Wine',\n",
    "#  'rating': '90.0',\n",
    "#  'notes': ''}\n",
    "\n"
   ]
  },
  {
   "attachments": {},
   "cell_type": "markdown",
   "metadata": {},
   "source": [
    "Looping over the list of dictionaries can be tricky with plain Python. Specialized libraries like Pandas make this much easier but the downside is that you need to learn a new library. The following code is a bit more verbose but it's a good exercise to learn how to work with dictionaries in Python.\n"
   ]
  },
  {
   "cell_type": "code",
   "execution_count": 3,
   "metadata": {},
   "outputs": [],
   "source": [
    "# This example creates a new list that only has wines from Napa Valley. The new list is called napa_wines:\n",
    "napa_wines = []\n",
    "for wine in wines:\n",
    "    if 'Napa' in wine['region']:\n",
    "        napa_wines.append(wine)\n",
    "\n",
    "#napa_wines"
   ]
  },
  {
   "attachments": {},
   "cell_type": "markdown",
   "metadata": {},
   "source": [
    "**NOTE**: If you are trying to use ratings, remember that you will need to convert the ratings to integers for numerical comparisons."
   ]
  },
  {
   "attachments": {},
   "cell_type": "markdown",
   "metadata": {},
   "source": [
    "## Using Pandas\n",
    "Alternatively, you can use the Pandas library to load the CSV file and then extract the data. You'll need to install the Pandas library first. You can do this with the following command:\n",
    "\n",
    "```bash\n",
    "pip install pandas\n",
    "```\n",
    "\n",
    "Then, you can use the following code to load the CSV file and extract the data:\n",
    "\n",
    "```python\n",
    "import pandas as pd\n",
    "\n",
    "df = pd.read_csv('sample_data/wine-ratings-small.csv')\n",
    "df.head()\n",
    "```"
   ]
  },
  {
   "cell_type": "code",
   "execution_count": 9,
   "metadata": {},
   "outputs": [
    {
     "data": {
      "text/html": "<div>\n<style scoped>\n    .dataframe tbody tr th:only-of-type {\n        vertical-align: middle;\n    }\n\n    .dataframe tbody tr th {\n        vertical-align: top;\n    }\n\n    .dataframe thead th {\n        text-align: right;\n    }\n</style>\n<table border=\"1\" class=\"dataframe\">\n  <thead>\n    <tr style=\"text-align: right;\">\n      <th></th>\n      <th>name</th>\n      <th>grape</th>\n      <th>region</th>\n      <th>variety</th>\n      <th>rating</th>\n      <th>notes</th>\n    </tr>\n  </thead>\n  <tbody>\n    <tr>\n      <th>0</th>\n      <td>Laurenz V Charming Gruner Veltliner 2013</td>\n      <td>NaN</td>\n      <td>Kamptal, Austria</td>\n      <td>White Wine</td>\n      <td>90.0</td>\n      <td>Aromas of ripe apples and a typical Veltliner ...</td>\n    </tr>\n    <tr>\n      <th>1</th>\n      <td>Laurenz V Charming Gruner Veltliner 2014</td>\n      <td>NaN</td>\n      <td>Kamptal, Austria</td>\n      <td>White Wine</td>\n      <td>90.0</td>\n      <td>Aromas of ripe apples and a typical Veltliner ...</td>\n    </tr>\n    <tr>\n      <th>2</th>\n      <td>Laurenz V Singing Gruner Veltliner 2007</td>\n      <td>NaN</td>\n      <td>Austria</td>\n      <td>White Wine</td>\n      <td>90.0</td>\n      <td>A very attractive fruit bouquet yields apple, ...</td>\n    </tr>\n    <tr>\n      <th>3</th>\n      <td>Laurenz V Singing Gruner Veltliner 2010</td>\n      <td>NaN</td>\n      <td>Austria</td>\n      <td>White Wine</td>\n      <td>88.0</td>\n      <td>A very attractive fruit bouquet yields apple, ...</td>\n    </tr>\n    <tr>\n      <th>4</th>\n      <td>Laurenz V Singing Gruner Veltliner 2011</td>\n      <td>NaN</td>\n      <td>Austria</td>\n      <td>White Wine</td>\n      <td>88.0</td>\n      <td>A very attractive fruit bouquet yields apple, ...</td>\n    </tr>\n  </tbody>\n</table>\n</div>",
      "text/plain": "                                       name  grape            region  \\\n0  Laurenz V Charming Gruner Veltliner 2013    NaN  Kamptal, Austria   \n1  Laurenz V Charming Gruner Veltliner 2014    NaN  Kamptal, Austria   \n2   Laurenz V Singing Gruner Veltliner 2007    NaN           Austria   \n3   Laurenz V Singing Gruner Veltliner 2010    NaN           Austria   \n4   Laurenz V Singing Gruner Veltliner 2011    NaN           Austria   \n\n      variety  rating                                              notes  \n0  White Wine    90.0  Aromas of ripe apples and a typical Veltliner ...  \n1  White Wine    90.0  Aromas of ripe apples and a typical Veltliner ...  \n2  White Wine    90.0  A very attractive fruit bouquet yields apple, ...  \n3  White Wine    88.0  A very attractive fruit bouquet yields apple, ...  \n4  White Wine    88.0  A very attractive fruit bouquet yields apple, ...  "
     },
     "execution_count": 9,
     "metadata": {},
     "output_type": "execute_result"
    }
   ],
   "source": [
    "import pandas as pd\n",
    "df = pd.read_csv(\"sample_data/wine-ratings-small.csv\", index_col=0) # read the csv file and set the index column to 0\n",
    "df.head() # show the first 5 rows of the dataframe\n"
   ]
  },
  {
   "attachments": {},
   "cell_type": "markdown",
   "metadata": {},
   "source": [
    "## Manipulate data with Pandas or as a dictionary\n",
    "At this point, you can use Pandas if you know how to use it. Otherwise, you can use the data as a dictionary. You can use the following code to extract the data:\n",
    "\n",
    "```python\n",
    "data = df.to_dict()\n",
    "```"
   ]
  },
  {
   "cell_type": "code",
   "execution_count": 18,
   "metadata": {},
   "outputs": [
    {
     "data": {
      "text/plain": "'Laurenz V Charming Gruner Veltliner 2014'"
     },
     "execution_count": 18,
     "metadata": {},
     "output_type": "execute_result"
    }
   ],
   "source": [
    "dict_data = df.to_dict()\n",
    "# You'll get several keys, one for each column in the dataframe. You can access the values of a column by using the column name as a key. You'll also\n",
    "# get the index of each row as a key. You can access the values of a row by using the index as a key.\n",
    "\n",
    "dict_data['name'][1] # get the values of the 'name' column\n",
    "# sample output:\n",
    "# {0: 'Laurenz V Charming Gruner Veltliner 2013',\n",
    "# 1: 'Laurenz V Charming Gruner Veltliner 2014', ...}\n"
   ]
  },
  {
   "cell_type": "code",
   "execution_count": 19,
   "metadata": {},
   "outputs": [
    {
     "name": "stdout",
     "output_type": "stream",
     "text": [
      "Laurenz V Charming Gruner Veltliner 2013 90.0 Kamptal, Austria\n"
     ]
    }
   ],
   "source": [
    "# if you want to get the values of a row, you can use the index of the row as a key, but you have to use it for every column you need. For example:\n",
    "print(dict_data['name'][0], # get the value of the 'name' column for the row with index 0\n",
    "dict_data['rating'][0], # get the value of the 'rating' column for the row with index 0\n",
    "dict_data['region'][0], # get the value of the 'region' column for the row with index 0\n",
    ")\n",
    "\n"
   ]
  },
  {
   "cell_type": "code",
   "execution_count": 59,
   "metadata": {},
   "outputs": [
    {
     "name": "stdout",
     "output_type": "stream",
     "text": [
      "                                              name  grape region     variety  \\\n",
      "575  Leone de Castris Verdeca Bianco Messapia 2009    NaN  Italy  White Wine   \n",
      "655       Les Cretes Valle d'Aosta Chardonnay 2010    NaN  Italy  White Wine   \n",
      "\n",
      "     rating                                              notes  \n",
      "575    90.0  Made from 100% Verdeca, an ancient Greek varie...  \n",
      "655    92.0  Valle d'Aosta Chardonnay is a lovely yellow. T...  \n",
      "{\"schema\":{\"fields\":[{\"name\":\"index\",\"type\":\"integer\"},{\"name\":\"name\",\"type\":\"string\"},{\"name\":\"grape\",\"type\":\"number\"},{\"name\":\"region\",\"type\":\"string\"},{\"name\":\"variety\",\"type\":\"string\"},{\"name\":\"rating\",\"type\":\"number\"},{\"name\":\"notes\",\"type\":\"string\"}],\"primaryKey\":[\"index\"],\"pandas_version\":\"0.20.0\"},\"data\":[{\"index\":575,\"name\":\"Leone de Castris Verdeca Bianco Messapia 2009\",\"grape\":null,\"region\":\"Italy\",\"variety\":\"White Wine\",\"rating\":90.0,\"notes\":\"Made from 100% Verdeca, an ancient Greek varietal that produces wines that are crisp, refreshing and floral. This wine is fermented and aged in stainless steel to retain the fresh character of the grape. \"},{\"index\":655,\"name\":\"Les Cretes Valle d'Aosta Chardonnay 2010\",\"grape\":null,\"region\":\"Italy\",\"variety\":\"White Wine\",\"rating\":92.0,\"notes\":\"Valle d'Aosta Chardonnay is a lovely yellow. The nose is delicately floral with hints of banana and a bit of plum. On the palate, the wine is soft, fruity and mineral. This Chardonnay from this region is grown with excellent results, giving a wine with exuberant fruit flavor, combined with a pure expression of the \\\"terroir\\\" of the mountain. \"}]}\n"
     ]
    }
   ],
   "source": [
    "import json\n",
    "\n",
    "data = df[df['variety'] == 'White Wine']  # Get every row where the column variety is White Wine\n",
    "data = data[data['rating'] > 88]\n",
    "data = data[data['rating'] < 95]\n",
    "data = data[data['region'] == 'Italy']\n",
    "\n",
    "data\n",
    "print(data)\n",
    "\n",
    "data.to_json(r'wines-mine.json', orient='records') # Gurdarlo en wines-mine.json, orient=records es para quese guarde como una lista con diccionario por cada fila\n",
    "\n",
    "\n",
    "\n"
   ]
  }
 ],
 "metadata": {
  "kernelspec": {
   "display_name": "Python 3",
   "language": "python",
   "name": "python3"
  },
  "language_info": {
   "codemirror_mode": {
    "name": "ipython",
    "version": 3
   },
   "file_extension": ".py",
   "mimetype": "text/x-python",
   "name": "python",
   "nbconvert_exporter": "python",
   "pygments_lexer": "ipython3",
   "version": "3.8.5"
  },
  "orig_nbformat": 4
 },
 "nbformat": 4,
 "nbformat_minor": 2
}